{
 "cells": [
  {
   "cell_type": "markdown",
   "metadata": {},
   "source": [
    "#### Monte Carlo Methods \n",
    "Monte Carlo methods, or MC for short, are a class of techniques for randomly sampling a probability distribution.\n",
    "\n",
    "There are three main reasons to use Monte Carlo methods to randomly sample a probability distribution; they are:\n",
    "\n",
    "1) <b>Estimate density</b>, gather samples to approximate the distribution of a target function.<br>\n",
    "2) <b>Approximate a quantity</b>, such as the mean or variance of a distribution.<br>\n",
    "3) <b>Optimize a function</b>, locate a sample that maximizes or minimizes the target function<br>\n",
    "\n",
    "Some examples of Monte Carlo sampling methods include: direct sampling, importance sampling, and rejection sampling.\n",
    "\n",
    "1) <b>Direct Sampling.</b> Sampling the distribution directly without prior information.<br>\n",
    "2) <b>Importance Sampling.</b> Sampling from a simpler approximation of the target distribution.<br>\n",
    "3) <b>Rejection Sampling.</b> Sampling from a broader distribution and only considering samples within a region of the sampled distribution.<br>\n"
   ]
  },
  {
   "cell_type": "code",
   "execution_count": 2,
   "metadata": {},
   "outputs": [
    {
     "data": {
      "image/png": "[encoded data removed]",
      "text/plain": [
       "<Figure size 432x288 with 4 Axes>"
      ]
     },
     "metadata": {
      "needs_background": "light"
     },
     "output_type": "display_data"
    }
   ],
   "source": [
    "# example of effect of size on monte carlo sample\n",
    "from numpy.random import normal\n",
    "from matplotlib import pyplot\n",
    "# define the distribution\n",
    "mu = 50\n",
    "sigma = 5\n",
    "# generate monte carlo samples of differing size\n",
    "sizes = [10, 50, 100, 1000]\n",
    "for i in range(len(sizes)):\n",
    "\t# generate sample\n",
    "\tsample = normal(mu, sigma, sizes[i])\n",
    "\t# plot histogram of sample\n",
    "\tpyplot.subplot(2, 2, i+1)\n",
    "\tpyplot.hist(sample, bins=20)\n",
    "\tpyplot.title('%d samples' % sizes[i])\n",
    "\tpyplot.xticks([])\n",
    "# show the plot\n",
    "pyplot.show()"
   ]
  },
  {
   "cell_type": "code",
   "execution_count": null,
   "metadata": {},
   "outputs": [],
   "source": []
  }
 ],
 "metadata": {
  "kernelspec": {
   "display_name": "Python 3",
   "language": "python",
   "name": "python3"
  },
  "language_info": {
   "codemirror_mode": {
    "name": "ipython",
    "version": 3
   },
   "file_extension": ".py",
   "mimetype": "text/x-python",
   "name": "python",
   "nbconvert_exporter": "python",
   "pygments_lexer": "ipython3",
   "version": "3.7.3"
  }
 },
 "nbformat": 4,
 "nbformat_minor": 2
}
